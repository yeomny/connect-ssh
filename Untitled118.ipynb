{
  "nbformat": 4,
  "nbformat_minor": 0,
  "metadata": {
    "colab": {
      "provenance": [],
      "authorship_tag": "ABX9TyN3gRg+seh7asAQTTaaanOl",
      "include_colab_link": true
    },
    "kernelspec": {
      "name": "python3",
      "display_name": "Python 3"
    },
    "language_info": {
      "name": "python"
    }
  },
  "cells": [
    {
      "cell_type": "markdown",
      "metadata": {
        "id": "view-in-github",
        "colab_type": "text"
      },
      "source": [
        "<a href=\"https://colab.research.google.com/github/yeomny/connect-ssh/blob/master/Untitled118.ipynb\" target=\"_parent\"><img src=\"https://colab.research.google.com/assets/colab-badge.svg\" alt=\"Open In Colab\"/></a>"
      ]
    },
    {
      "cell_type": "code",
      "source": [],
      "metadata": {
        "id": "9zkzlNC7kCWU"
      },
      "execution_count": 14,
      "outputs": []
    },
    {
      "cell_type": "code",
      "source": [
        "menu = 0\n",
        "food = []\n",
        "\n",
        "while menu != 5:\n",
        "  print('-'*10)\n",
        "  print('''1.보관 식재료 출력  2.식재료 추가 3.식재료 삭제 5.종료''')\n",
        "  print('-'*10)\n",
        "  menu = int(input('관리 메뉴를 선택하시오: '))\n",
        "  if menu == 1:\n",
        "    print(food)\n",
        "\n",
        "  if menu == 2:\n",
        "    name = input('추가할 식재표 입력:')\n",
        "    food.append(name)\n",
        "    print(food)\n",
        "\n",
        "  if menu == 3:\n",
        "    del_name = input('삭제할 식재표 입력:')\n",
        "    if del_name in food:\n",
        "      food.remove(del_name)\n",
        "    else:\n",
        "      print('식자제 재고 없음')\n",
        "\n",
        "  if menu == 5:\n",
        "    break\n"
      ],
      "metadata": {
        "colab": {
          "base_uri": "https://localhost:8080/"
        },
        "id": "TWyclE4QkTLr",
        "outputId": "ef55f4e0-8a80-4e3b-d4c5-7da433fec173"
      },
      "execution_count": 17,
      "outputs": [
        {
          "name": "stdout",
          "output_type": "stream",
          "text": [
            "----------\n",
            "1.보관 식재료 출력  2.식재료 추가 3.식재료 삭제 5.종료\n",
            "----------\n",
            "관리 메뉴를 선택하시오: 1\n",
            "[]\n",
            "----------\n",
            "1.보관 식재료 출력  2.식재료 추가 3.식재료 삭제 5.종료\n",
            "----------\n",
            "관리 메뉴를 선택하시오: 2\n",
            "추가할 식재표 입력:오이\n",
            "['오이']\n",
            "----------\n",
            "1.보관 식재료 출력  2.식재료 추가 3.식재료 삭제 5.종료\n",
            "----------\n",
            "관리 메뉴를 선택하시오: 3\n",
            "삭제할 식재표 입력:참외\n",
            "식자제 재고 없음\n",
            "----------\n",
            "1.보관 식재료 출력  2.식재료 추가 3.식재료 삭제 5.종료\n",
            "----------\n",
            "관리 메뉴를 선택하시오: 3\n",
            "삭제할 식재표 입력:오이\n",
            "----------\n",
            "1.보관 식재료 출력  2.식재료 추가 3.식재료 삭제 5.종료\n",
            "----------\n",
            "관리 메뉴를 선택하시오: 5\n"
          ]
        }
      ]
    },
    {
      "cell_type": "code",
      "source": [
        "()"
      ],
      "metadata": {
        "id": "7u_hNzO9lIWb"
      },
      "execution_count": null,
      "outputs": []
    }
  ]
}